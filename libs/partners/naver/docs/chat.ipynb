{
 "cells": [
  {
   "cell_type": "raw",
   "id": "afaf8039",
   "metadata": {},
   "source": [
    "---\n",
    "sidebar_label: Naver\n",
    "---"
   ]
  },
  {
   "cell_type": "markdown",
   "id": "e49f1e0d",
   "metadata": {},
   "source": [
    "# ChatClovaX\n",
    "\n",
    "This notebook provides a quick overview for getting started with Naver’s CLOVA [chat models](https://python.langchain.com/v0.2/docs/concepts/#chat-models) via CLOVA Studio. For detailed documentation of all ChatClovaX features and configurations head to the [API reference](https://api.python.langchain.com/en/latest/chat_models/langchain_anthropic.chat_models.ChatAnthropic.html).\n",
    "\n",
    "CLOVA Studio has several chat models. You can find information about latest models and their costs, context windows, and supported input types in the CLOVA Studio API Guide [documentation](https://api.ncloud-docs.com/docs/clovastudio-chatcompletions).\n",
    "\n",
    "## Overview\n",
    "### Integration details\n",
    "\n",
    "| Class | Package | Local | Serializable | [JS support](https://js.langchain.com/v0.2/docs/integrations/chat/naver) | Package downloads | Package latest |\n",
    "| :--- | :--- |:-----:| :---: |:------------------------------------------------------------------------:| :---: | :---: |\n",
    "| [ChatClovaX](https://api.python.langchain.com/en/latest/chat_models/langchain_naver.chat_models.ChatClovaX.html) | [langchain-naver](https://api.python.langchain.com/en/latest/naver_api_reference.html) |   ❌   | beta/❌ |                                    ❌                                     | ![PyPI - Downloads](https://img.shields.io/pypi/dm/langchain-naver?style=flat-square&label=%20) | ![PyPI - Version](https://img.shields.io/pypi/v/langchain-naver?style=flat-square&label=%20) |\n",
    "\n",
    "### Model features\n",
    "| [Tool calling](/docs/how_to/tool_calling/) | [Structured output](/docs/how_to/structured_output/) | JSON mode | [Image input](/docs/how_to/multimodal_inputs/) | Audio input | Video input | [Token-level streaming](/docs/how_to/chat_streaming/) | Native async | [Token usage](/docs/how_to/chat_token_usage_tracking/) | [Logprobs](/docs/how_to/logprobs/) |\n",
    "|:------------------------------------------:| :---: | :---: | :---: |  :---: | :---: |:-----------------------------------------------------:| :---: |:------------------------------------------------------:| :---: |\n",
    "|❌| ✅/❌ | ✅/❌ | ❌ | ❌ | ❌ |                           ✅                           | ✅/❌ |                           ✅                            | ✅/❌ | \n",
    "\n",
    "## Setup\n",
    "\n",
    "아래 절차에 대한 간략한 설명\n",
    "\n",
    "- NCP 계정 생성 (https://www.ncloud.com/)\n",
    "- CLOVA Studio 이용 신청 (https://www.ncloud.com/product/aiService/clovaStudio > ‘Get Started’)\n",
    "- CLOVA Studio 테스트 앱 또는 서비스 앱 생성 후 API Key 확인 (참고: https://guide.ncloud-docs.com/docs/en/clovastudio-playground01#테스트앱생성)\n",
    "\n",
    "### Credentials\n",
    "\n",
    "- 현재 CLOVA Studio는 NCP_CLOVASTUDIO_API_KEY, NCP_APIGW_API_KEY 2개를 필요로 함\n",
    "    - NCP_CLOVASTUDIO_API_KEY는 앱별로 다르다는 점에 유의 필요 (반면, NCP_APIGW_API_KEY는 계정당 하나)\n",
    "- 두 API Key는 CLOVA Studio의 앱 신청 현항 (App Request Status) > 서비스 앱, 테스트 앱 목록 > 앱 별 ‘자세히 (Details)’ 버튼을 클릭하여 확인 가능\n",
    "    - ref) https://clovastudio.ncloud.com/studio-application/service-app\n",
    "\n",
    "- TODO: Update with relevant info.\n",
    "\n",
    "Head to (TODO: link) to sign up to Naver and generate an API key. Once you've done this set the NAVER_API_KEY environment variable:"
   ]
  },
  {
   "cell_type": "code",
   "execution_count": null,
   "id": "433e8d2b-9519-4b49-b2c4-7ab65b046c94",
   "metadata": {},
   "outputs": [],
   "source": [
    "import getpass\n",
    "import os\n",
    "\n",
    "os.environ[\"NAVER_API_KEY\"] = getpass.getpass(\"Enter your Naver API key: \")"
   ]
  },
  {
   "cell_type": "markdown",
   "id": "72ee0c4b-9764-423a-9dbf-95129e185210",
   "metadata": {},
   "source": [
    "If you want to get automated tracing of your model calls you can also set your [LangSmith](https://docs.smith.langchain.com/) API key by uncommenting below:"
   ]
  },
  {
   "cell_type": "code",
   "execution_count": null,
   "id": "a15d341e-3e26-4ca3-830b-5aab30ed66de",
   "metadata": {},
   "outputs": [],
   "source": [
    "# os.environ[\"LANGSMITH_API_KEY\"] = getpass.getpass(\"Enter your LangSmith API key: \")\n",
    "# os.environ[\"LANGSMITH_TRACING\"] = \"true\""
   ]
  },
  {
   "cell_type": "markdown",
   "id": "0730d6a1-c893-4840-9817-5e5251676d5d",
   "metadata": {},
   "source": [
    "### Installation\n",
    "\n",
    "The LangChain Naver integration lives in the `langchain-naver` package:"
   ]
  },
  {
   "cell_type": "code",
   "execution_count": null,
   "id": "652d6238-1f87-422a-b135-f5abbb8652fc",
   "metadata": {},
   "outputs": [],
   "source": [
    "%pip install -qU langchain-naver"
   ]
  },
  {
   "cell_type": "markdown",
   "id": "a38cde65-254d-4219-a441-068766c0d4b5",
   "metadata": {},
   "source": [
    "## Instantiation\n",
    "\n",
    "- 예시 모델: HCX-DASH-001\n",
    "- 파라미터: 템플릿 중 작동하는 항목 및 값으로 작성 (temperature, max_tokens, max_retries)\n",
    "- 추가 파라미터: CLOVA Studio 특화 파라미터 작성\n"
   ]
  },
  {
   "cell_type": "code",
   "execution_count": null,
   "id": "cb09c344-1836-4e0c-acf8-11d13ac1dbae",
   "metadata": {},
   "outputs": [],
   "source": [
    "from langchain_naver import ChatClovaX\n",
    "\n",
    "llm = ChatClovaX(\n",
    "    model=\"HCX-DASH-001\",\n",
    "    temperature=0.5,\n",
    "    max_tokens=None,\n",
    "    max_retries=2,\n",
    "    # clovastudio_api_key=\"...\"  # if you prefer to pass api key in directly instead of using env vars\n",
    "    # task_id=\"...\"  # if you want to use fine-tuned model\n",
    "    # service_app=False (default)  # True if using service app\n",
    "    # include_ai_filters=False (default) ## True if you want to detect inappropriate content\n",
    "    # other params...\n",
    ")"
   ]
  },
  {
   "cell_type": "markdown",
   "id": "2b4f3e15",
   "metadata": {},
   "source": [
    "## Invocation\n",
    "\n",
    "- 예시 프롬프트 및 작업"
   ]
  },
  {
   "cell_type": "code",
   "execution_count": null,
   "id": "62e0dbc3",
   "metadata": {
    "tags": []
   },
   "outputs": [],
   "source": [
    "messages = [\n",
    "    (\n",
    "        \"system\",\n",
    "        \"You are a helpful assistant that translates English to Korean. Translate the user sentence.\",\n",
    "    ),\n",
    "    (\"human\", \"I love using AI of NAVER CLOVA X.\"),\n",
    "]\n",
    "ai_msg = llm.invoke(messages)\n",
    "ai_msg"
   ]
  },
  {
   "cell_type": "code",
   "execution_count": null,
   "id": "d86145b3-bfef-46e8-b227-4dda5c9c2705",
   "metadata": {},
   "outputs": [],
   "source": [
    "print(ai_msg.content)"
   ]
  },
  {
   "cell_type": "markdown",
   "id": "18e2bfc0-7e78-4528-a73f-499ac150dca8",
   "metadata": {},
   "source": [
    "## Chaining\n",
    "\n",
    "- 예시 프롬프트 및 작업\n"
   ]
  },
  {
   "cell_type": "code",
   "execution_count": null,
   "id": "e197d1d7-a070-4c96-9f8a-a0e86d046e0b",
   "metadata": {},
   "outputs": [],
   "source": [
    "from langchain_core.prompts import ChatPromptTemplate\n",
    "\n",
    "prompt = ChatPromptTemplate.from_messages(\n",
    "    [\n",
    "        (\n",
    "            \"system\",\n",
    "            \"You are a helpful assistant that translates {input_language} to {output_language}. Translate the user sentence.\",\n",
    "        ),\n",
    "        (\"human\", \"{input}\"),\n",
    "    ]\n",
    ")\n",
    "\n",
    "chain = prompt | llm\n",
    "chain.invoke(\n",
    "    {\n",
    "        \"input_language\": \"English\",\n",
    "        \"output_language\": \"Korean\",\n",
    "        \"input\": \"I love using AI of NAVER CLOVA X.\",\n",
    "    }\n",
    ")"
   ]
  },
  {
   "metadata": {},
   "cell_type": "markdown",
   "source": [
    "## Additional functionalities\n",
    "\n",
    "### Fine-tuning\n",
    "\n",
    "You can call fine-tuned CLOVA X models by passing in your corresponding `task_id` parameter. (You don’t need to specify the model_name parameter when calling fine-tuned model.)\n",
    "\n",
    "You can check `task_id` from corresponding test app/service app details."
   ],
   "id": "b17f1745ecca4559"
  },
  {
   "metadata": {},
   "cell_type": "code",
   "outputs": [],
   "execution_count": null,
   "source": [
    "fine_tuned_model = ChatClovaX(\n",
    "    task_id='abcd123e',\n",
    "    temperature=0.5,\n",
    ")\n",
    "\n",
    "fine_tuned_model(messages)"
   ],
   "id": "955392044d4c967"
  },
  {
   "cell_type": "markdown",
   "id": "3a5bb5ca-c3ae-4a58-be67-2cd18574b9a3",
   "metadata": {},
   "source": [
    "### Service app\n",
    "\n",
    "- 실 서비스 적용 시 서비스 앱 사용 필요 안내 (going live/in production)\n",
    "  - ref) https://guide.ncloud-docs.com/docs/en/clovastudio-playground01#서비스앱신청\n",
    "- 서비스 앱의 경우 별도 API Key가 발급되며 해당 API Key로만 호출 가능한 점 설명\n",
    "- service_app 파라미터 사용 사례 추가\n",
    "\n",
    "### AI Filter\n",
    "\n",
    "- 간략한 AI Filter 소개 및 include_ai_filters 파라미터 사용 사례 추가\n",
    "  - ref) https://guide.ncloud-docs.com/docs/en/clovastudio-playground01#AIFilter\n",
    "- include output metadata with ai_filter\n",
    "\n",
    "## API reference\n",
    "\n",
    "For detailed documentation of all ChatClovaX features and configurations head to the API reference: https://api.python.langchain.com/en/latest/chat_models/langchain_naver.chat_models.ChatClovaX.html"
   ]
  }
 ],
 "metadata": {
  "kernelspec": {
   "display_name": "Python 3 (ipykernel)",
   "language": "python",
   "name": "python3"
  },
  "language_info": {
   "codemirror_mode": {
    "name": "ipython",
    "version": 3
   },
   "file_extension": ".py",
   "mimetype": "text/x-python",
   "name": "python",
   "nbconvert_exporter": "python",
   "pygments_lexer": "ipython3",
   "version": "3.9.1"
  }
 },
 "nbformat": 4,
 "nbformat_minor": 5
}

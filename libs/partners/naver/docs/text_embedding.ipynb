{
 "cells": [
  {
   "cell_type": "raw",
   "id": "afaf8039",
   "metadata": {},
   "source": [
    "---\n",
    "sidebar_label: Naver\n",
    "---"
   ]
  },
  {
   "cell_type": "markdown",
   "id": "e49f1e0d",
   "metadata": {},
   "source": [
    "# ClovaXEmbeddings\n",
    "\n",
    "This notebook covers how to get started with embedding models provided by CLOVA Studio.\n",
    "\n",
    "## Installation"
   ]
  },
  {
   "cell_type": "code",
   "execution_count": null,
   "id": "4c3bef91",
   "metadata": {},
   "outputs": [],
   "source": [
    "# install package\n",
    "!pip install -U langchain-naver"
   ]
  },
  {
   "cell_type": "markdown",
   "id": "2b4f3e15",
   "metadata": {},
   "source": [
    "## Environment Setup\n",
    "\n",
    "- 현재 CLOVA Studio를 통해 임베딩 모델을 이용하기 위해서는 `NCP_CLOVASTUDIO_API_KEY`, `NCP_APIGW_API_KEY`, `NCP_CLOVASTUDIO_APP_ID` 총 3개를 필요로 함\n",
    "  - `NCP_CLOVASTUDIO_API_KEY`, `NCP_CLOVASTUDIO_APP_ID` 는 앱별로 다르다는 점에 유의 필요\n",
    "  - 반면, `NCP_APIGW_API_KEY` 는 계정당 하나\n",
    "- 위 API Key 및 App ID는 CLOVA Studio의 앱 신청 현항 (App Request Status) > 서비스 앱, 테스트 앱 목록 > 앱 별 ‘자세히 (Details)’ 버튼을 클릭하여 확인 가능\n",
    "\n",
    "## Usage\n",
    "\n",
    "- 사용 가능한 모델 종류 3가지 설명 포함 (3개 모델명만 언급하고 자세한 사항은 아래 링크 참조하도록 안내)\n",
    "  - ref) https://guide.ncloud-docs.com/docs/en/clovastudio-explorer03#임베딩API\n",
    "- embed_query, embed_documents 예시 코드\n",
    "- (확인 필요) async operation 지원 여부에 따라 해당 예시 코드 추가\n"
   ]
  },
  {
   "cell_type": "code",
   "execution_count": null,
   "id": "62e0dbc3",
   "metadata": {
    "tags": []
   },
   "outputs": [],
   "source": [
    "from langchain_naver.embeddings import ClovaXEmbeddings\n",
    "\n",
    "embeddings = ClovaXEmbeddings()"
   ]
  },
  {
   "cell_type": "code",
   "execution_count": null,
   "id": "12fcfb4b",
   "metadata": {},
   "outputs": [],
   "source": [
    "embeddings.embed_query(\"My query to look up\")"
   ]
  },
  {
   "cell_type": "code",
   "execution_count": null,
   "id": "1f2e6104",
   "metadata": {},
   "outputs": [],
   "source": [
    "embeddings.embed_documents(\n",
    "    [\"This is a content of the document\", \"This is another document\"]\n",
    ")"
   ]
  },
  {
   "cell_type": "code",
   "execution_count": null,
   "id": "46739f68",
   "metadata": {},
   "outputs": [],
   "source": [
    "# async embed query\n",
    "await embeddings.aembed_query(\"My query to look up\")"
   ]
  },
  {
   "cell_type": "code",
   "execution_count": null,
   "id": "e48632ea",
   "metadata": {},
   "outputs": [],
   "source": [
    "# async embed documents\n",
    "await embeddings.aembed_documents(\n",
    "    [\"This is a content of the document\", \"This is another document\"]\n",
    ")"
   ]
  },
  {
   "metadata": {},
   "cell_type": "markdown",
   "source": [
    "## Additional functionalities\n",
    "\n",
    "### Service app\n",
    "\n",
    "- 실 서비스 적용 시 서비스 앱 사용 필요 안내 (going live/in production)\n",
    "  - ref) https://guide.ncloud-docs.com/docs/en/clovastudio-playground01#서비스앱신청\n",
    "- 서비스 앱의 경우 별도 App ID 및 API Key가 발급되며 해당 App ID 및 API Key로만 호출 가능한 점 설명\n",
    "- service_app 파라미터 사용 사례 추가\n"
   ],
   "id": "eee40d32367cc5c4"
  }
 ],
 "metadata": {
  "kernelspec": {
   "display_name": "Python 3 (ipykernel)",
   "language": "python",
   "name": "python3"
  },
  "language_info": {
   "codemirror_mode": {
    "name": "ipython",
    "version": 3
   },
   "file_extension": ".py",
   "mimetype": "text/x-python",
   "name": "python",
   "nbconvert_exporter": "python",
   "pygments_lexer": "ipython3",
   "version": "3.11.9"
  }
 },
 "nbformat": 4,
 "nbformat_minor": 5
}
